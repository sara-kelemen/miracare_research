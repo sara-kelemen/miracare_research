{
  "nbformat": 4,
  "nbformat_minor": 0,
  "metadata": {
    "colab": {
      "provenance": []
    },
    "kernelspec": {
      "name": "python3",
      "display_name": "Python 3"
    },
    "language_info": {
      "name": "python"
    }
  },
  "cells": [
    {
      "cell_type": "code",
      "execution_count": null,
      "metadata": {
        "id": "4cvf2EhxXN1o"
      },
      "outputs": [],
      "source": [
        "import pandas as pd\n",
        "from google.colab import files\n",
        "import matplotlib.pyplot as plt\n",
        "import numpy as np"
      ]
    },
    {
      "cell_type": "code",
      "source": [
        "df = pd.read_csv('/content/full_dataset_missing_vals_one_row_per_cycle_fw_indexing_48days.csv')"
      ],
      "metadata": {
        "colab": {
          "base_uri": "https://localhost:8080/"
        },
        "id": "hA3TeYPzXohH",
        "outputId": "4faff38b-799c-48f8-8160-3770642b970a"
      },
      "execution_count": null,
      "outputs": [
        {
          "output_type": "stream",
          "name": "stderr",
          "text": [
            "<ipython-input-207-91be9512b258>:1: DtypeWarning: Columns (14,15,16,17,62,63,64,65,110,111,112,113) have mixed types. Specify dtype option on import or set low_memory=False.\n",
            "  df = pd.read_csv('/content/full_dataset_missing_vals_one_row_per_cycle_fw_indexing_48days.csv')\n"
          ]
        }
      ]
    },
    {
      "cell_type": "code",
      "source": [
        "df = df.loc[df['cycle_length']<48]"
      ],
      "metadata": {
        "id": "TNQJgI5qO9IM"
      },
      "execution_count": null,
      "outputs": []
    },
    {
      "cell_type": "code",
      "source": [
        "df.columns"
      ],
      "metadata": {
        "colab": {
          "base_uri": "https://localhost:8080/"
        },
        "id": "1ul5k580P6FY",
        "outputId": "23337a20-1d7a-4285-f784-217a0b6d6c87"
      },
      "execution_count": null,
      "outputs": [
        {
          "output_type": "execute_result",
          "data": {
            "text/plain": [
              "Index(['hub_id', 'cycle_index', 'cycle_length', 'cycle_status', 'max_LH_day',\n",
              "       'max_LH_day_bw', 'day0_LH', 'day1_LH', 'day2_LH', 'day3_LH',\n",
              "       ...\n",
              "       'day38_PDG', 'day39_PDG', 'day40_PDG', 'day41_PDG', 'day42_PDG',\n",
              "       'day43_PDG', 'day44_PDG', 'day45_PDG', 'day46_PDG', 'day47_PDG'],\n",
              "      dtype='object', length=150)"
            ]
          },
          "metadata": {},
          "execution_count": 209
        }
      ]
    },
    {
      "cell_type": "code",
      "source": [
        "len(df)"
      ],
      "metadata": {
        "colab": {
          "base_uri": "https://localhost:8080/"
        },
        "id": "anSgV-3iPi7I",
        "outputId": "5da8b79b-1ae1-4cc7-999f-107b71773185"
      },
      "execution_count": null,
      "outputs": [
        {
          "output_type": "execute_result",
          "data": {
            "text/plain": [
              "23804"
            ]
          },
          "metadata": {},
          "execution_count": 210
        }
      ]
    },
    {
      "cell_type": "code",
      "source": [
        "### Minimizing to just lh\n",
        "lh_columns = [col for col in df.columns if '_LH' in col]\n",
        "lh_df = df[['hub_id', 'cycle_index','cycle_status','cycle_length'] + lh_columns]\n",
        "lh_df_day_cols =['day0_LH', 'day1_LH', 'day2_LH', 'day3_LH', 'day4_LH',\n",
        "       'day5_LH', 'day6_LH', 'day7_LH', 'day8_LH', 'day9_LH', 'day10_LH',\n",
        "       'day11_LH', 'day12_LH', 'day13_LH', 'day14_LH', 'day15_LH', 'day16_LH',\n",
        "       'day17_LH', 'day18_LH', 'day19_LH', 'day20_LH', 'day21_LH', 'day22_LH',\n",
        "       'day23_LH', 'day24_LH', 'day25_LH', 'day26_LH', 'day27_LH', 'day28_LH',\n",
        "       'day29_LH', 'day30_LH', 'day31_LH', 'day32_LH', 'day33_LH', 'day34_LH',\n",
        "       'day35_LH', 'day36_LH', 'day37_LH', 'day38_LH', 'day39_LH', 'day40_LH',\n",
        "       'day41_LH', 'day42_LH', 'day43_LH', 'day44_LH', 'day45_LH', 'day46_LH',\n",
        "       'day47_LH']"
      ],
      "metadata": {
        "id": "qhUjMaPUX5Bb"
      },
      "execution_count": null,
      "outputs": []
    },
    {
      "cell_type": "code",
      "source": [
        "\"\"\"This is the beginning cycle analysis, forward indexing.\"\"\"\n",
        "def fw_idx(hormone_df, day_cols):\n",
        "    # Total missing days\n",
        "    hormone_df['total_missing'] = hormone_df[day_cols].apply(lambda x: (x == False).sum(), axis=1)\n",
        "\n",
        "    # Ranges for beginning analysis\n",
        "    ranges = {\n",
        "        '0-3': day_cols[:3],\n",
        "        '4-6': day_cols[3:6],\n",
        "        '7-10': day_cols[6:10],\n",
        "    }\n",
        "\n",
        "    # Calculate missing days for each range\n",
        "    for range_name, range_cols in ranges.items():\n",
        "        hormone_df[f'{range_name} missing'] = hormone_df[range_cols].apply(lambda x: (x == False).sum(), axis=1)\n",
        "\n",
        "    return hormone_df\n",
        "\n",
        "df = fw_idx(lh_df, lh_df_day_cols)"
      ],
      "metadata": {
        "colab": {
          "base_uri": "https://localhost:8080/"
        },
        "id": "IEbINOKaYJze",
        "outputId": "9b4238f3-745c-4b5c-ca46-557c9be77c0d"
      },
      "execution_count": null,
      "outputs": [
        {
          "output_type": "stream",
          "name": "stderr",
          "text": [
            "<ipython-input-212-4b43ddaa62c1>:4: SettingWithCopyWarning: \n",
            "A value is trying to be set on a copy of a slice from a DataFrame.\n",
            "Try using .loc[row_indexer,col_indexer] = value instead\n",
            "\n",
            "See the caveats in the documentation: https://pandas.pydata.org/pandas-docs/stable/user_guide/indexing.html#returning-a-view-versus-a-copy\n",
            "  hormone_df['total_missing'] = hormone_df[day_cols].apply(lambda x: (x == False).sum(), axis=1)\n",
            "<ipython-input-212-4b43ddaa62c1>:15: SettingWithCopyWarning: \n",
            "A value is trying to be set on a copy of a slice from a DataFrame.\n",
            "Try using .loc[row_indexer,col_indexer] = value instead\n",
            "\n",
            "See the caveats in the documentation: https://pandas.pydata.org/pandas-docs/stable/user_guide/indexing.html#returning-a-view-versus-a-copy\n",
            "  hormone_df[f'{range_name} missing'] = hormone_df[range_cols].apply(lambda x: (x == False).sum(), axis=1)\n",
            "<ipython-input-212-4b43ddaa62c1>:15: SettingWithCopyWarning: \n",
            "A value is trying to be set on a copy of a slice from a DataFrame.\n",
            "Try using .loc[row_indexer,col_indexer] = value instead\n",
            "\n",
            "See the caveats in the documentation: https://pandas.pydata.org/pandas-docs/stable/user_guide/indexing.html#returning-a-view-versus-a-copy\n",
            "  hormone_df[f'{range_name} missing'] = hormone_df[range_cols].apply(lambda x: (x == False).sum(), axis=1)\n",
            "<ipython-input-212-4b43ddaa62c1>:15: SettingWithCopyWarning: \n",
            "A value is trying to be set on a copy of a slice from a DataFrame.\n",
            "Try using .loc[row_indexer,col_indexer] = value instead\n",
            "\n",
            "See the caveats in the documentation: https://pandas.pydata.org/pandas-docs/stable/user_guide/indexing.html#returning-a-view-versus-a-copy\n",
            "  hormone_df[f'{range_name} missing'] = hormone_df[range_cols].apply(lambda x: (x == False).sum(), axis=1)\n"
          ]
        }
      ]
    },
    {
      "cell_type": "code",
      "source": [
        "def lh_spike_indexing_b(hormone_df, day_cols, start=-6, end=6):\n",
        "    def calculate_missing(row):\n",
        "        max_LH_day = int(row['max_LH_day'])\n",
        "        start_day = max(0, max_LH_day + start)\n",
        "        end_day = min(len(day_cols), max_LH_day + end + 1)\n",
        "        vals = row[day_cols[start_day:end_day]]\n",
        "        return (vals == False).sum()\n",
        "\n",
        "    hormone_df['missing_around_spike_6_days'] = hormone_df.apply(calculate_missing, axis=1)\n",
        "    return hormone_df\n",
        "\n",
        "df = lh_spike_indexing_b(lh_df, lh_df_day_cols)\n",
        "def lh_spike_indexing_c(hormone_df, day_cols, start=-3, end=3):\n",
        "    def calculate_missing(row):\n",
        "        max_LH_day = int(row['max_LH_day'])\n",
        "        start_day = max(0, max_LH_day + start)\n",
        "        end_day = min(len(day_cols), max_LH_day + end + 1)\n",
        "        vals = row[day_cols[start_day:end_day]]\n",
        "        return (vals == False).sum()\n",
        "\n",
        "    hormone_df['missing_around_spike_3_days'] = hormone_df.apply(calculate_missing, axis=1)\n",
        "    return hormone_df\n",
        "df = lh_spike_indexing_c(df, lh_df_day_cols)"
      ],
      "metadata": {
        "id": "15wwioi8iQxC"
      },
      "execution_count": null,
      "outputs": []
    },
    {
      "cell_type": "code",
      "source": [
        "def new_bw_idx(row, bw_start, bw_end):\n",
        "  cycle_length = row['cycle_length']\n",
        "\n",
        "  col_names = [f'day{i}_LH' for i in range(cycle_length + bw_start + 1, cycle_length + bw_end+1) if i>=0]\n",
        "  days = row[col_names]\n",
        "  return (days==False).sum()"
      ],
      "metadata": {
        "id": "KCB2eWJRJFh5"
      },
      "execution_count": null,
      "outputs": []
    },
    {
      "cell_type": "code",
      "source": [
        "new_df = df.apply(lambda x: new_bw_idx(x,bw_start=-3,bw_end=0),axis=1)\n",
        "new_df"
      ],
      "metadata": {
        "colab": {
          "base_uri": "https://localhost:8080/",
          "height": 458
        },
        "id": "iZodqAwnOgr1",
        "outputId": "8bb60214-97de-48c7-fc4f-ed40b6b0e1a2"
      },
      "execution_count": null,
      "outputs": [
        {
          "output_type": "execute_result",
          "data": {
            "text/plain": [
              "0        3\n",
              "1        2\n",
              "2        3\n",
              "3        3\n",
              "4        3\n",
              "        ..\n",
              "24859    3\n",
              "24860    3\n",
              "24861    1\n",
              "24862    1\n",
              "24863    3\n",
              "Length: 23804, dtype: int64"
            ],
            "text/html": [
              "<div>\n",
              "<style scoped>\n",
              "    .dataframe tbody tr th:only-of-type {\n",
              "        vertical-align: middle;\n",
              "    }\n",
              "\n",
              "    .dataframe tbody tr th {\n",
              "        vertical-align: top;\n",
              "    }\n",
              "\n",
              "    .dataframe thead th {\n",
              "        text-align: right;\n",
              "    }\n",
              "</style>\n",
              "<table border=\"1\" class=\"dataframe\">\n",
              "  <thead>\n",
              "    <tr style=\"text-align: right;\">\n",
              "      <th></th>\n",
              "      <th>0</th>\n",
              "    </tr>\n",
              "  </thead>\n",
              "  <tbody>\n",
              "    <tr>\n",
              "      <th>0</th>\n",
              "      <td>3</td>\n",
              "    </tr>\n",
              "    <tr>\n",
              "      <th>1</th>\n",
              "      <td>2</td>\n",
              "    </tr>\n",
              "    <tr>\n",
              "      <th>2</th>\n",
              "      <td>3</td>\n",
              "    </tr>\n",
              "    <tr>\n",
              "      <th>3</th>\n",
              "      <td>3</td>\n",
              "    </tr>\n",
              "    <tr>\n",
              "      <th>4</th>\n",
              "      <td>3</td>\n",
              "    </tr>\n",
              "    <tr>\n",
              "      <th>...</th>\n",
              "      <td>...</td>\n",
              "    </tr>\n",
              "    <tr>\n",
              "      <th>24859</th>\n",
              "      <td>3</td>\n",
              "    </tr>\n",
              "    <tr>\n",
              "      <th>24860</th>\n",
              "      <td>3</td>\n",
              "    </tr>\n",
              "    <tr>\n",
              "      <th>24861</th>\n",
              "      <td>1</td>\n",
              "    </tr>\n",
              "    <tr>\n",
              "      <th>24862</th>\n",
              "      <td>1</td>\n",
              "    </tr>\n",
              "    <tr>\n",
              "      <th>24863</th>\n",
              "      <td>3</td>\n",
              "    </tr>\n",
              "  </tbody>\n",
              "</table>\n",
              "<p>23804 rows × 1 columns</p>\n",
              "</div><br><label><b>dtype:</b> int64</label>"
            ]
          },
          "metadata": {},
          "execution_count": 215
        }
      ]
    },
    {
      "cell_type": "code",
      "source": [
        "df.columns"
      ],
      "metadata": {
        "colab": {
          "base_uri": "https://localhost:8080/"
        },
        "id": "x49p6kq0EaFo",
        "outputId": "9034ec2e-5f52-4792-bd9b-9d6929c5200e"
      },
      "execution_count": null,
      "outputs": [
        {
          "output_type": "execute_result",
          "data": {
            "text/plain": [
              "Index(['hub_id', 'cycle_index', 'cycle_status', 'cycle_length', 'max_LH_day',\n",
              "       'max_LH_day_bw', 'day0_LH', 'day1_LH', 'day2_LH', 'day3_LH', 'day4_LH',\n",
              "       'day5_LH', 'day6_LH', 'day7_LH', 'day8_LH', 'day9_LH', 'day10_LH',\n",
              "       'day11_LH', 'day12_LH', 'day13_LH', 'day14_LH', 'day15_LH', 'day16_LH',\n",
              "       'day17_LH', 'day18_LH', 'day19_LH', 'day20_LH', 'day21_LH', 'day22_LH',\n",
              "       'day23_LH', 'day24_LH', 'day25_LH', 'day26_LH', 'day27_LH', 'day28_LH',\n",
              "       'day29_LH', 'day30_LH', 'day31_LH', 'day32_LH', 'day33_LH', 'day34_LH',\n",
              "       'day35_LH', 'day36_LH', 'day37_LH', 'day38_LH', 'day39_LH', 'day40_LH',\n",
              "       'day41_LH', 'day42_LH', 'day43_LH', 'day44_LH', 'day45_LH', 'day46_LH',\n",
              "       'day47_LH', 'total_missing', '0-3 missing', '4-6 missing',\n",
              "       '7-10 missing', 'missing_around_spike_6_days',\n",
              "       'missing_around_spike_3_days'],\n",
              "      dtype='object')"
            ]
          },
          "metadata": {},
          "execution_count": 216
        }
      ]
    },
    {
      "cell_type": "code",
      "source": [
        "new_df"
      ],
      "metadata": {
        "colab": {
          "base_uri": "https://localhost:8080/",
          "height": 458
        },
        "id": "srd62gV5Fk_C",
        "outputId": "b4efef27-2875-4c68-c6d3-540ac78f16ce"
      },
      "execution_count": null,
      "outputs": [
        {
          "output_type": "execute_result",
          "data": {
            "text/plain": [
              "0        3\n",
              "1        2\n",
              "2        3\n",
              "3        3\n",
              "4        3\n",
              "        ..\n",
              "24859    3\n",
              "24860    3\n",
              "24861    1\n",
              "24862    1\n",
              "24863    3\n",
              "Length: 23804, dtype: int64"
            ],
            "text/html": [
              "<div>\n",
              "<style scoped>\n",
              "    .dataframe tbody tr th:only-of-type {\n",
              "        vertical-align: middle;\n",
              "    }\n",
              "\n",
              "    .dataframe tbody tr th {\n",
              "        vertical-align: top;\n",
              "    }\n",
              "\n",
              "    .dataframe thead th {\n",
              "        text-align: right;\n",
              "    }\n",
              "</style>\n",
              "<table border=\"1\" class=\"dataframe\">\n",
              "  <thead>\n",
              "    <tr style=\"text-align: right;\">\n",
              "      <th></th>\n",
              "      <th>0</th>\n",
              "    </tr>\n",
              "  </thead>\n",
              "  <tbody>\n",
              "    <tr>\n",
              "      <th>0</th>\n",
              "      <td>3</td>\n",
              "    </tr>\n",
              "    <tr>\n",
              "      <th>1</th>\n",
              "      <td>2</td>\n",
              "    </tr>\n",
              "    <tr>\n",
              "      <th>2</th>\n",
              "      <td>3</td>\n",
              "    </tr>\n",
              "    <tr>\n",
              "      <th>3</th>\n",
              "      <td>3</td>\n",
              "    </tr>\n",
              "    <tr>\n",
              "      <th>4</th>\n",
              "      <td>3</td>\n",
              "    </tr>\n",
              "    <tr>\n",
              "      <th>...</th>\n",
              "      <td>...</td>\n",
              "    </tr>\n",
              "    <tr>\n",
              "      <th>24859</th>\n",
              "      <td>3</td>\n",
              "    </tr>\n",
              "    <tr>\n",
              "      <th>24860</th>\n",
              "      <td>3</td>\n",
              "    </tr>\n",
              "    <tr>\n",
              "      <th>24861</th>\n",
              "      <td>1</td>\n",
              "    </tr>\n",
              "    <tr>\n",
              "      <th>24862</th>\n",
              "      <td>1</td>\n",
              "    </tr>\n",
              "    <tr>\n",
              "      <th>24863</th>\n",
              "      <td>3</td>\n",
              "    </tr>\n",
              "  </tbody>\n",
              "</table>\n",
              "<p>23804 rows × 1 columns</p>\n",
              "</div><br><label><b>dtype:</b> int64</label>"
            ]
          },
          "metadata": {},
          "execution_count": 217
        }
      ]
    },
    {
      "cell_type": "code",
      "source": [
        "# Apply the function and assign the result to new columns\n",
        "bw_start = -3\n",
        "bw_end = 0\n",
        "df[f'bw_start_{bw_start}_bw_end_{bw_end}'] = df.apply(lambda x: new_bw_idx(x, bw_start, bw_end), axis=1)\n",
        "\n",
        "#-6 to -3\n",
        "bw_start = -6\n",
        "bw_end = -3\n",
        "df[f'bw_start_{bw_start}_bw_end_{bw_end}'] = df.apply(lambda x: new_bw_idx(x, bw_start, bw_end), axis=1)\n",
        "\n",
        "#-9 to -6\n",
        "bw_start = -9\n",
        "bw_end = -6\n",
        "df[f'bw_start_{bw_start}_bw_end_{bw_end}'] = df.apply(lambda x: new_bw_idx(x, bw_start, bw_end), axis=1)\n",
        "\n",
        "#-12 to -9\n",
        "bw_start = -12\n",
        "bw_end = -9\n",
        "df[f'bw_start_{bw_start}_bw_end_{bw_end}'] = df.apply(lambda x: new_bw_idx(x, bw_start, bw_end), axis=1)"
      ],
      "metadata": {
        "id": "yhJiR8XNfelj"
      },
      "execution_count": null,
      "outputs": []
    },
    {
      "cell_type": "code",
      "source": [
        "df.columns"
      ],
      "metadata": {
        "colab": {
          "base_uri": "https://localhost:8080/"
        },
        "id": "3AYxZnUthBC1",
        "outputId": "10cb0582-61f3-4d9b-bb09-71a7c876e47c"
      },
      "execution_count": null,
      "outputs": [
        {
          "output_type": "execute_result",
          "data": {
            "text/plain": [
              "Index(['hub_id', 'cycle_index', 'cycle_status', 'cycle_length', 'max_LH_day',\n",
              "       'max_LH_day_bw', 'day0_LH', 'day1_LH', 'day2_LH', 'day3_LH', 'day4_LH',\n",
              "       'day5_LH', 'day6_LH', 'day7_LH', 'day8_LH', 'day9_LH', 'day10_LH',\n",
              "       'day11_LH', 'day12_LH', 'day13_LH', 'day14_LH', 'day15_LH', 'day16_LH',\n",
              "       'day17_LH', 'day18_LH', 'day19_LH', 'day20_LH', 'day21_LH', 'day22_LH',\n",
              "       'day23_LH', 'day24_LH', 'day25_LH', 'day26_LH', 'day27_LH', 'day28_LH',\n",
              "       'day29_LH', 'day30_LH', 'day31_LH', 'day32_LH', 'day33_LH', 'day34_LH',\n",
              "       'day35_LH', 'day36_LH', 'day37_LH', 'day38_LH', 'day39_LH', 'day40_LH',\n",
              "       'day41_LH', 'day42_LH', 'day43_LH', 'day44_LH', 'day45_LH', 'day46_LH',\n",
              "       'day47_LH', 'total_missing', '0-3 missing', '4-6 missing',\n",
              "       '7-10 missing', 'missing_around_spike_6_days',\n",
              "       'missing_around_spike_3_days', 'bw_start_-3_bw_end_0',\n",
              "       'bw_start_-6_bw_end_-3', 'bw_start_-9_bw_end_-6',\n",
              "       'bw_start_-12_bw_end_-9'],\n",
              "      dtype='object')"
            ]
          },
          "metadata": {},
          "execution_count": 219
        }
      ]
    },
    {
      "cell_type": "code",
      "source": [
        "missingness_df = df[['hub_id', 'cycle_index', 'cycle_status', 'cycle_length', 'max_LH_day','0-3 missing', '4-6 missing',\n",
        "       '7-10 missing', 'missing_around_spike_6_days',\n",
        "       'missing_around_spike_3_days', 'bw_start_-3_bw_end_0',\n",
        "       'bw_start_-6_bw_end_-3', 'bw_start_-9_bw_end_-6',\n",
        "       'bw_start_-12_bw_end_-9']]"
      ],
      "metadata": {
        "id": "SIr4ZJc9hBN9"
      },
      "execution_count": null,
      "outputs": []
    },
    {
      "cell_type": "code",
      "source": [
        "missingness_df[['0-3 missing', '4-6 missing',\n",
        "       '7-10 missing', 'missing_around_spike_6_days',\n",
        "       'missing_around_spike_3_days', 'bw_start_-3_bw_end_0',\n",
        "       'bw_start_-6_bw_end_-3', 'bw_start_-9_bw_end_-6',\n",
        "       'bw_start_-12_bw_end_-9']].describe()"
      ],
      "metadata": {
        "colab": {
          "base_uri": "https://localhost:8080/",
          "height": 338
        },
        "id": "JFVFcH4hhOkL",
        "outputId": "7356bb23-bfe8-4021-82a2-90f0f217dc15"
      },
      "execution_count": null,
      "outputs": [
        {
          "output_type": "execute_result",
          "data": {
            "text/plain": [
              "        0-3 missing   4-6 missing  7-10 missing  missing_around_spike_6_days  \\\n",
              "count  23804.000000  23804.000000  23804.000000                 23804.000000   \n",
              "mean       2.612334      2.426525      2.070240                     4.787473   \n",
              "std        0.830929      0.933726      1.489486                     3.277704   \n",
              "min        0.000000      0.000000      0.000000                     0.000000   \n",
              "25%        3.000000      2.000000      1.000000                     2.000000   \n",
              "50%        3.000000      3.000000      2.000000                     4.000000   \n",
              "75%        3.000000      3.000000      4.000000                     7.000000   \n",
              "max        3.000000      3.000000      4.000000                    12.000000   \n",
              "\n",
              "       missing_around_spike_3_days  bw_start_-3_bw_end_0  \\\n",
              "count                 23804.000000          23804.000000   \n",
              "mean                      1.810788              2.533902   \n",
              "std                       1.864748              0.770132   \n",
              "min                       0.000000              1.000000   \n",
              "25%                       0.000000              2.000000   \n",
              "50%                       1.000000              3.000000   \n",
              "75%                       3.000000              3.000000   \n",
              "max                       6.000000              3.000000   \n",
              "\n",
              "       bw_start_-6_bw_end_-3  bw_start_-9_bw_end_-6  bw_start_-12_bw_end_-9  \n",
              "count           23804.000000           23804.000000            23804.000000  \n",
              "mean                2.171358               1.989792                1.642707  \n",
              "std                 1.178802               1.243502                1.287158  \n",
              "min                 0.000000               0.000000                0.000000  \n",
              "25%                 1.000000               1.000000                0.000000  \n",
              "50%                 3.000000               3.000000                2.000000  \n",
              "75%                 3.000000               3.000000                3.000000  \n",
              "max                 3.000000               3.000000                3.000000  "
            ],
            "text/html": [
              "\n",
              "  <div id=\"df-5c2d5221-fd6f-4b9d-b70d-5935c3c2d4ed\" class=\"colab-df-container\">\n",
              "    <div>\n",
              "<style scoped>\n",
              "    .dataframe tbody tr th:only-of-type {\n",
              "        vertical-align: middle;\n",
              "    }\n",
              "\n",
              "    .dataframe tbody tr th {\n",
              "        vertical-align: top;\n",
              "    }\n",
              "\n",
              "    .dataframe thead th {\n",
              "        text-align: right;\n",
              "    }\n",
              "</style>\n",
              "<table border=\"1\" class=\"dataframe\">\n",
              "  <thead>\n",
              "    <tr style=\"text-align: right;\">\n",
              "      <th></th>\n",
              "      <th>0-3 missing</th>\n",
              "      <th>4-6 missing</th>\n",
              "      <th>7-10 missing</th>\n",
              "      <th>missing_around_spike_6_days</th>\n",
              "      <th>missing_around_spike_3_days</th>\n",
              "      <th>bw_start_-3_bw_end_0</th>\n",
              "      <th>bw_start_-6_bw_end_-3</th>\n",
              "      <th>bw_start_-9_bw_end_-6</th>\n",
              "      <th>bw_start_-12_bw_end_-9</th>\n",
              "    </tr>\n",
              "  </thead>\n",
              "  <tbody>\n",
              "    <tr>\n",
              "      <th>count</th>\n",
              "      <td>23804.000000</td>\n",
              "      <td>23804.000000</td>\n",
              "      <td>23804.000000</td>\n",
              "      <td>23804.000000</td>\n",
              "      <td>23804.000000</td>\n",
              "      <td>23804.000000</td>\n",
              "      <td>23804.000000</td>\n",
              "      <td>23804.000000</td>\n",
              "      <td>23804.000000</td>\n",
              "    </tr>\n",
              "    <tr>\n",
              "      <th>mean</th>\n",
              "      <td>2.612334</td>\n",
              "      <td>2.426525</td>\n",
              "      <td>2.070240</td>\n",
              "      <td>4.787473</td>\n",
              "      <td>1.810788</td>\n",
              "      <td>2.533902</td>\n",
              "      <td>2.171358</td>\n",
              "      <td>1.989792</td>\n",
              "      <td>1.642707</td>\n",
              "    </tr>\n",
              "    <tr>\n",
              "      <th>std</th>\n",
              "      <td>0.830929</td>\n",
              "      <td>0.933726</td>\n",
              "      <td>1.489486</td>\n",
              "      <td>3.277704</td>\n",
              "      <td>1.864748</td>\n",
              "      <td>0.770132</td>\n",
              "      <td>1.178802</td>\n",
              "      <td>1.243502</td>\n",
              "      <td>1.287158</td>\n",
              "    </tr>\n",
              "    <tr>\n",
              "      <th>min</th>\n",
              "      <td>0.000000</td>\n",
              "      <td>0.000000</td>\n",
              "      <td>0.000000</td>\n",
              "      <td>0.000000</td>\n",
              "      <td>0.000000</td>\n",
              "      <td>1.000000</td>\n",
              "      <td>0.000000</td>\n",
              "      <td>0.000000</td>\n",
              "      <td>0.000000</td>\n",
              "    </tr>\n",
              "    <tr>\n",
              "      <th>25%</th>\n",
              "      <td>3.000000</td>\n",
              "      <td>2.000000</td>\n",
              "      <td>1.000000</td>\n",
              "      <td>2.000000</td>\n",
              "      <td>0.000000</td>\n",
              "      <td>2.000000</td>\n",
              "      <td>1.000000</td>\n",
              "      <td>1.000000</td>\n",
              "      <td>0.000000</td>\n",
              "    </tr>\n",
              "    <tr>\n",
              "      <th>50%</th>\n",
              "      <td>3.000000</td>\n",
              "      <td>3.000000</td>\n",
              "      <td>2.000000</td>\n",
              "      <td>4.000000</td>\n",
              "      <td>1.000000</td>\n",
              "      <td>3.000000</td>\n",
              "      <td>3.000000</td>\n",
              "      <td>3.000000</td>\n",
              "      <td>2.000000</td>\n",
              "    </tr>\n",
              "    <tr>\n",
              "      <th>75%</th>\n",
              "      <td>3.000000</td>\n",
              "      <td>3.000000</td>\n",
              "      <td>4.000000</td>\n",
              "      <td>7.000000</td>\n",
              "      <td>3.000000</td>\n",
              "      <td>3.000000</td>\n",
              "      <td>3.000000</td>\n",
              "      <td>3.000000</td>\n",
              "      <td>3.000000</td>\n",
              "    </tr>\n",
              "    <tr>\n",
              "      <th>max</th>\n",
              "      <td>3.000000</td>\n",
              "      <td>3.000000</td>\n",
              "      <td>4.000000</td>\n",
              "      <td>12.000000</td>\n",
              "      <td>6.000000</td>\n",
              "      <td>3.000000</td>\n",
              "      <td>3.000000</td>\n",
              "      <td>3.000000</td>\n",
              "      <td>3.000000</td>\n",
              "    </tr>\n",
              "  </tbody>\n",
              "</table>\n",
              "</div>\n",
              "    <div class=\"colab-df-buttons\">\n",
              "\n",
              "  <div class=\"colab-df-container\">\n",
              "    <button class=\"colab-df-convert\" onclick=\"convertToInteractive('df-5c2d5221-fd6f-4b9d-b70d-5935c3c2d4ed')\"\n",
              "            title=\"Convert this dataframe to an interactive table.\"\n",
              "            style=\"display:none;\">\n",
              "\n",
              "  <svg xmlns=\"http://www.w3.org/2000/svg\" height=\"24px\" viewBox=\"0 -960 960 960\">\n",
              "    <path d=\"M120-120v-720h720v720H120Zm60-500h600v-160H180v160Zm220 220h160v-160H400v160Zm0 220h160v-160H400v160ZM180-400h160v-160H180v160Zm440 0h160v-160H620v160ZM180-180h160v-160H180v160Zm440 0h160v-160H620v160Z\"/>\n",
              "  </svg>\n",
              "    </button>\n",
              "\n",
              "  <style>\n",
              "    .colab-df-container {\n",
              "      display:flex;\n",
              "      gap: 12px;\n",
              "    }\n",
              "\n",
              "    .colab-df-convert {\n",
              "      background-color: #E8F0FE;\n",
              "      border: none;\n",
              "      border-radius: 50%;\n",
              "      cursor: pointer;\n",
              "      display: none;\n",
              "      fill: #1967D2;\n",
              "      height: 32px;\n",
              "      padding: 0 0 0 0;\n",
              "      width: 32px;\n",
              "    }\n",
              "\n",
              "    .colab-df-convert:hover {\n",
              "      background-color: #E2EBFA;\n",
              "      box-shadow: 0px 1px 2px rgba(60, 64, 67, 0.3), 0px 1px 3px 1px rgba(60, 64, 67, 0.15);\n",
              "      fill: #174EA6;\n",
              "    }\n",
              "\n",
              "    .colab-df-buttons div {\n",
              "      margin-bottom: 4px;\n",
              "    }\n",
              "\n",
              "    [theme=dark] .colab-df-convert {\n",
              "      background-color: #3B4455;\n",
              "      fill: #D2E3FC;\n",
              "    }\n",
              "\n",
              "    [theme=dark] .colab-df-convert:hover {\n",
              "      background-color: #434B5C;\n",
              "      box-shadow: 0px 1px 3px 1px rgba(0, 0, 0, 0.15);\n",
              "      filter: drop-shadow(0px 1px 2px rgba(0, 0, 0, 0.3));\n",
              "      fill: #FFFFFF;\n",
              "    }\n",
              "  </style>\n",
              "\n",
              "    <script>\n",
              "      const buttonEl =\n",
              "        document.querySelector('#df-5c2d5221-fd6f-4b9d-b70d-5935c3c2d4ed button.colab-df-convert');\n",
              "      buttonEl.style.display =\n",
              "        google.colab.kernel.accessAllowed ? 'block' : 'none';\n",
              "\n",
              "      async function convertToInteractive(key) {\n",
              "        const element = document.querySelector('#df-5c2d5221-fd6f-4b9d-b70d-5935c3c2d4ed');\n",
              "        const dataTable =\n",
              "          await google.colab.kernel.invokeFunction('convertToInteractive',\n",
              "                                                    [key], {});\n",
              "        if (!dataTable) return;\n",
              "\n",
              "        const docLinkHtml = 'Like what you see? Visit the ' +\n",
              "          '<a target=\"_blank\" href=https://colab.research.google.com/notebooks/data_table.ipynb>data table notebook</a>'\n",
              "          + ' to learn more about interactive tables.';\n",
              "        element.innerHTML = '';\n",
              "        dataTable['output_type'] = 'display_data';\n",
              "        await google.colab.output.renderOutput(dataTable, element);\n",
              "        const docLink = document.createElement('div');\n",
              "        docLink.innerHTML = docLinkHtml;\n",
              "        element.appendChild(docLink);\n",
              "      }\n",
              "    </script>\n",
              "  </div>\n",
              "\n",
              "\n",
              "<div id=\"df-c3b2a6dc-6f22-481d-82dc-e4b19d25a7ad\">\n",
              "  <button class=\"colab-df-quickchart\" onclick=\"quickchart('df-c3b2a6dc-6f22-481d-82dc-e4b19d25a7ad')\"\n",
              "            title=\"Suggest charts\"\n",
              "            style=\"display:none;\">\n",
              "\n",
              "<svg xmlns=\"http://www.w3.org/2000/svg\" height=\"24px\"viewBox=\"0 0 24 24\"\n",
              "     width=\"24px\">\n",
              "    <g>\n",
              "        <path d=\"M19 3H5c-1.1 0-2 .9-2 2v14c0 1.1.9 2 2 2h14c1.1 0 2-.9 2-2V5c0-1.1-.9-2-2-2zM9 17H7v-7h2v7zm4 0h-2V7h2v10zm4 0h-2v-4h2v4z\"/>\n",
              "    </g>\n",
              "</svg>\n",
              "  </button>\n",
              "\n",
              "<style>\n",
              "  .colab-df-quickchart {\n",
              "      --bg-color: #E8F0FE;\n",
              "      --fill-color: #1967D2;\n",
              "      --hover-bg-color: #E2EBFA;\n",
              "      --hover-fill-color: #174EA6;\n",
              "      --disabled-fill-color: #AAA;\n",
              "      --disabled-bg-color: #DDD;\n",
              "  }\n",
              "\n",
              "  [theme=dark] .colab-df-quickchart {\n",
              "      --bg-color: #3B4455;\n",
              "      --fill-color: #D2E3FC;\n",
              "      --hover-bg-color: #434B5C;\n",
              "      --hover-fill-color: #FFFFFF;\n",
              "      --disabled-bg-color: #3B4455;\n",
              "      --disabled-fill-color: #666;\n",
              "  }\n",
              "\n",
              "  .colab-df-quickchart {\n",
              "    background-color: var(--bg-color);\n",
              "    border: none;\n",
              "    border-radius: 50%;\n",
              "    cursor: pointer;\n",
              "    display: none;\n",
              "    fill: var(--fill-color);\n",
              "    height: 32px;\n",
              "    padding: 0;\n",
              "    width: 32px;\n",
              "  }\n",
              "\n",
              "  .colab-df-quickchart:hover {\n",
              "    background-color: var(--hover-bg-color);\n",
              "    box-shadow: 0 1px 2px rgba(60, 64, 67, 0.3), 0 1px 3px 1px rgba(60, 64, 67, 0.15);\n",
              "    fill: var(--button-hover-fill-color);\n",
              "  }\n",
              "\n",
              "  .colab-df-quickchart-complete:disabled,\n",
              "  .colab-df-quickchart-complete:disabled:hover {\n",
              "    background-color: var(--disabled-bg-color);\n",
              "    fill: var(--disabled-fill-color);\n",
              "    box-shadow: none;\n",
              "  }\n",
              "\n",
              "  .colab-df-spinner {\n",
              "    border: 2px solid var(--fill-color);\n",
              "    border-color: transparent;\n",
              "    border-bottom-color: var(--fill-color);\n",
              "    animation:\n",
              "      spin 1s steps(1) infinite;\n",
              "  }\n",
              "\n",
              "  @keyframes spin {\n",
              "    0% {\n",
              "      border-color: transparent;\n",
              "      border-bottom-color: var(--fill-color);\n",
              "      border-left-color: var(--fill-color);\n",
              "    }\n",
              "    20% {\n",
              "      border-color: transparent;\n",
              "      border-left-color: var(--fill-color);\n",
              "      border-top-color: var(--fill-color);\n",
              "    }\n",
              "    30% {\n",
              "      border-color: transparent;\n",
              "      border-left-color: var(--fill-color);\n",
              "      border-top-color: var(--fill-color);\n",
              "      border-right-color: var(--fill-color);\n",
              "    }\n",
              "    40% {\n",
              "      border-color: transparent;\n",
              "      border-right-color: var(--fill-color);\n",
              "      border-top-color: var(--fill-color);\n",
              "    }\n",
              "    60% {\n",
              "      border-color: transparent;\n",
              "      border-right-color: var(--fill-color);\n",
              "    }\n",
              "    80% {\n",
              "      border-color: transparent;\n",
              "      border-right-color: var(--fill-color);\n",
              "      border-bottom-color: var(--fill-color);\n",
              "    }\n",
              "    90% {\n",
              "      border-color: transparent;\n",
              "      border-bottom-color: var(--fill-color);\n",
              "    }\n",
              "  }\n",
              "</style>\n",
              "\n",
              "  <script>\n",
              "    async function quickchart(key) {\n",
              "      const quickchartButtonEl =\n",
              "        document.querySelector('#' + key + ' button');\n",
              "      quickchartButtonEl.disabled = true;  // To prevent multiple clicks.\n",
              "      quickchartButtonEl.classList.add('colab-df-spinner');\n",
              "      try {\n",
              "        const charts = await google.colab.kernel.invokeFunction(\n",
              "            'suggestCharts', [key], {});\n",
              "      } catch (error) {\n",
              "        console.error('Error during call to suggestCharts:', error);\n",
              "      }\n",
              "      quickchartButtonEl.classList.remove('colab-df-spinner');\n",
              "      quickchartButtonEl.classList.add('colab-df-quickchart-complete');\n",
              "    }\n",
              "    (() => {\n",
              "      let quickchartButtonEl =\n",
              "        document.querySelector('#df-c3b2a6dc-6f22-481d-82dc-e4b19d25a7ad button');\n",
              "      quickchartButtonEl.style.display =\n",
              "        google.colab.kernel.accessAllowed ? 'block' : 'none';\n",
              "    })();\n",
              "  </script>\n",
              "</div>\n",
              "\n",
              "    </div>\n",
              "  </div>\n"
            ],
            "application/vnd.google.colaboratory.intrinsic+json": {
              "type": "dataframe",
              "summary": "{\n  \"name\": \"       'bw_start_-12_bw_end_-9']]\",\n  \"rows\": 8,\n  \"fields\": [\n    {\n      \"column\": \"0-3 missing\",\n      \"properties\": {\n        \"dtype\": \"number\",\n        \"std\": 8415.20498726533,\n        \"min\": 0.0,\n        \"max\": 23804.0,\n        \"num_unique_values\": 5,\n        \"samples\": [\n          2.6123340615022683,\n          3.0,\n          0.8309290990505289\n        ],\n        \"semantic_type\": \"\",\n        \"description\": \"\"\n      }\n    },\n    {\n      \"column\": \"4-6 missing\",\n      \"properties\": {\n        \"dtype\": \"number\",\n        \"std\": 8415.259677951828,\n        \"min\": 0.0,\n        \"max\": 23804.0,\n        \"num_unique_values\": 6,\n        \"samples\": [\n          23804.0,\n          2.4265249537892792,\n          3.0\n        ],\n        \"semantic_type\": \"\",\n        \"description\": \"\"\n      }\n    },\n    {\n      \"column\": \"7-10 missing\",\n      \"properties\": {\n        \"dtype\": \"number\",\n        \"std\": 8415.24964469261,\n        \"min\": 0.0,\n        \"max\": 23804.0,\n        \"num_unique_values\": 7,\n        \"samples\": [\n          23804.0,\n          2.0702402957486137,\n          2.0\n        ],\n        \"semantic_type\": \"\",\n        \"description\": \"\"\n      }\n    },\n    {\n      \"column\": \"missing_around_spike_6_days\",\n      \"properties\": {\n        \"dtype\": \"number\",\n        \"std\": 8414.31563410817,\n        \"min\": 0.0,\n        \"max\": 23804.0,\n        \"num_unique_values\": 8,\n        \"samples\": [\n          4.78747269366493,\n          4.0,\n          23804.0\n        ],\n        \"semantic_type\": \"\",\n        \"description\": \"\"\n      }\n    },\n    {\n      \"column\": \"missing_around_spike_3_days\",\n      \"properties\": {\n        \"dtype\": \"number\",\n        \"std\": 8415.294411836545,\n        \"min\": 0.0,\n        \"max\": 23804.0,\n        \"num_unique_values\": 7,\n        \"samples\": [\n          23804.0,\n          1.810788102839859,\n          3.0\n        ],\n        \"semantic_type\": \"\",\n        \"description\": \"\"\n      }\n    },\n    {\n      \"column\": \"bw_start_-3_bw_end_0\",\n      \"properties\": {\n        \"dtype\": \"number\",\n        \"std\": 8415.211986388487,\n        \"min\": 0.7701320929050939,\n        \"max\": 23804.0,\n        \"num_unique_values\": 6,\n        \"samples\": [\n          23804.0,\n          2.533901865232734,\n          3.0\n        ],\n        \"semantic_type\": \"\",\n        \"description\": \"\"\n      }\n    },\n    {\n      \"column\": \"bw_start_-6_bw_end_-3\",\n      \"properties\": {\n        \"dtype\": \"number\",\n        \"std\": 8415.310698156261,\n        \"min\": 0.0,\n        \"max\": 23804.0,\n        \"num_unique_values\": 6,\n        \"samples\": [\n          23804.0,\n          2.1713577549991596,\n          3.0\n        ],\n        \"semantic_type\": \"\",\n        \"description\": \"\"\n      }\n    },\n    {\n      \"column\": \"bw_start_-9_bw_end_-6\",\n      \"properties\": {\n        \"dtype\": \"number\",\n        \"std\": 8415.316599464002,\n        \"min\": 0.0,\n        \"max\": 23804.0,\n        \"num_unique_values\": 6,\n        \"samples\": [\n          23804.0,\n          1.989791631658545,\n          3.0\n        ],\n        \"semantic_type\": \"\",\n        \"description\": \"\"\n      }\n    },\n    {\n      \"column\": \"bw_start_-12_bw_end_-9\",\n      \"properties\": {\n        \"dtype\": \"number\",\n        \"std\": 8415.432946982244,\n        \"min\": 0.0,\n        \"max\": 23804.0,\n        \"num_unique_values\": 6,\n        \"samples\": [\n          23804.0,\n          1.6427071080490674,\n          3.0\n        ],\n        \"semantic_type\": \"\",\n        \"description\": \"\"\n      }\n    }\n  ]\n}"
            }
          },
          "metadata": {},
          "execution_count": 221
        }
      ]
    },
    {
      "cell_type": "code",
      "source": [
        "def classify_rows(df, column_name):\n",
        "    df[f'classification_{column_name}'] = df[column_name] < 3 # < 2 for 3 days; spike 6 days < 5; spike 3 days < 3\n",
        "    return df"
      ],
      "metadata": {
        "id": "QIzlfDBghSTg"
      },
      "execution_count": null,
      "outputs": []
    },
    {
      "cell_type": "code",
      "source": [
        "def filter_and_print_len(df, column_name):\n",
        "\n",
        "\n",
        "    filtered_df = df[df[column_name]]\n",
        "\n",
        "    print(len(filtered_df))\n",
        "\n",
        "    return filtered_df"
      ],
      "metadata": {
        "id": "Da6ipjpZjXVk"
      },
      "execution_count": null,
      "outputs": []
    },
    {
      "cell_type": "code",
      "source": [
        "# prompt: download  missingness_df\n",
        "\n",
        "from google.colab import files\n",
        "missingness_df.to_csv('missingness_df.csv')\n",
        "files.download('missingness_df.csv')"
      ],
      "metadata": {
        "colab": {
          "base_uri": "https://localhost:8080/",
          "height": 17
        },
        "id": "z8KAiG2Dmjvw",
        "outputId": "bdef18f9-5ad9-4a9d-a407-f5c66a374e20"
      },
      "execution_count": null,
      "outputs": [
        {
          "output_type": "display_data",
          "data": {
            "text/plain": [
              "<IPython.core.display.Javascript object>"
            ],
            "application/javascript": [
              "\n",
              "    async function download(id, filename, size) {\n",
              "      if (!google.colab.kernel.accessAllowed) {\n",
              "        return;\n",
              "      }\n",
              "      const div = document.createElement('div');\n",
              "      const label = document.createElement('label');\n",
              "      label.textContent = `Downloading \"${filename}\": `;\n",
              "      div.appendChild(label);\n",
              "      const progress = document.createElement('progress');\n",
              "      progress.max = size;\n",
              "      div.appendChild(progress);\n",
              "      document.body.appendChild(div);\n",
              "\n",
              "      const buffers = [];\n",
              "      let downloaded = 0;\n",
              "\n",
              "      const channel = await google.colab.kernel.comms.open(id);\n",
              "      // Send a message to notify the kernel that we're ready.\n",
              "      channel.send({})\n",
              "\n",
              "      for await (const message of channel.messages) {\n",
              "        // Send a message to notify the kernel that we're ready.\n",
              "        channel.send({})\n",
              "        if (message.buffers) {\n",
              "          for (const buffer of message.buffers) {\n",
              "            buffers.push(buffer);\n",
              "            downloaded += buffer.byteLength;\n",
              "            progress.value = downloaded;\n",
              "          }\n",
              "        }\n",
              "      }\n",
              "      const blob = new Blob(buffers, {type: 'application/binary'});\n",
              "      const a = document.createElement('a');\n",
              "      a.href = window.URL.createObjectURL(blob);\n",
              "      a.download = filename;\n",
              "      div.appendChild(a);\n",
              "      a.click();\n",
              "      div.remove();\n",
              "    }\n",
              "  "
            ]
          },
          "metadata": {}
        },
        {
          "output_type": "display_data",
          "data": {
            "text/plain": [
              "<IPython.core.display.Javascript object>"
            ],
            "application/javascript": [
              "download(\"download_1bda7fc3-2f22-429d-939e-f0a06e958b30\", \"missingness_df.csv\", 1283976)"
            ]
          },
          "metadata": {}
        }
      ]
    },
    {
      "cell_type": "code",
      "source": [
        "#filter_and_print_len(missingness_df, 'classification_missing_around_spike_6_days')"
      ],
      "metadata": {
        "id": "QV6drZxpkRrP"
      },
      "execution_count": null,
      "outputs": []
    },
    {
      "cell_type": "code",
      "source": [
        "### Spike 3 Days has 16142 rows\n",
        "### Spike 6 Days 6418 rows\n",
        "### 0-3 days 5280 rows\n",
        "### 4-6 days 8066 rows\n",
        "### 7-10 days 14029 rows\n",
        "### -3 to 0 6998 rows\n",
        "### -6 to -3 9132 rows\n",
        "### -9 to -6 10868 rows\n",
        "### -12 to -9 14227 rows"
      ],
      "metadata": {
        "id": "3UrW_QkbkTek"
      },
      "execution_count": null,
      "outputs": []
    },
    {
      "cell_type": "code",
      "source": [
        "# split on one of those features and work to show that the performance is different for people who have more vs less missingness\n"
      ],
      "metadata": {
        "id": "_Go7XZHxP2Bc"
      },
      "execution_count": null,
      "outputs": []
    }
  ]
}